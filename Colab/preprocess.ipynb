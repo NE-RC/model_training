{
  "nbformat": 4,
  "nbformat_minor": 0,
  "metadata": {
    "colab": {
      "name": "preprocess.ipynb",
      "version": "0.3.2",
      "provenance": []
    },
    "kernelspec": {
      "name": "python3",
      "display_name": "Python 3"
    }
  },
  "cells": [
    {
      "cell_type": "code",
      "metadata": {
        "id": "TjntzELiOWEB",
        "colab_type": "code",
        "colab": {}
      },
      "source": [
        "!pip install opencv-python==3.3.0.10"
      ],
      "execution_count": 0,
      "outputs": []
    },
    {
      "cell_type": "code",
      "metadata": {
        "id": "wBAzQeFJ4RgI",
        "colab_type": "code",
        "colab": {}
      },
      "source": [
        "%matplotlib inline\n",
        "\n",
        "import numpy as np\n",
        "import matplotlib.pyplot as plt\n",
        "import matplotlib.image\n",
        "import os\n",
        "import cv2\n",
        "from google.colab import drive\n",
        "drive.mount(\"/content/drive\")\n",
        "\n",
        "cv2.__version__"
      ],
      "execution_count": 0,
      "outputs": []
    },
    {
      "cell_type": "code",
      "metadata": {
        "id": "2J1IU1dUOuvy",
        "colab_type": "code",
        "colab": {}
      },
      "source": [
        "def reshape_image(path, save_path, new_size = (180, 135)):\n",
        "  img = cv2.imread(path)\n",
        "  resized = cv2.resize(img, new_size)\n",
        "  cv2.imwrite(save_path, resized)"
      ],
      "execution_count": 0,
      "outputs": []
    },
    {
      "cell_type": "code",
      "metadata": {
        "id": "4M540ZiRPiA2",
        "colab_type": "code",
        "colab": {}
      },
      "source": [
        "#old_dir = \"/content/drive/My Drive/NERC Colab/5-28 data/frames/\"\n",
        "#new_dir = \"/content/drive/My Drive/NERC Colab/5-28 data/preprocessed_frames/\"\n",
        "old_dir = \"/content/drive/My Drive/NERC Colab/newData/frames/\"\n",
        "new_dir = \"/content/drive/My Drive/NERC Colab/newData/preprocessed_frames/\"\n",
        "new_size = (180, 135)\n",
        "for img in os.listdir(old_dir):\n",
        "  print(img)\n",
        "  img_path = old_dir + img\n",
        "  new_path = new_dir + img\n",
        "  reshape_image(img_path, new_path)\n",
        "print(\"DONE\")"
      ],
      "execution_count": 0,
      "outputs": []
    },
    {
      "cell_type": "code",
      "metadata": {
        "id": "N7pWvRJsVHye",
        "colab_type": "code",
        "colab": {}
      },
      "source": [
        ""
      ],
      "execution_count": 0,
      "outputs": []
    }
  ]
}